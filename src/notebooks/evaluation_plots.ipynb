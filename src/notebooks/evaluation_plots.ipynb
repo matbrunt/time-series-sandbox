{
 "cells": [
  {
   "cell_type": "code",
   "execution_count": 2,
   "metadata": {},
   "outputs": [],
   "source": [
    "import pandas as pd\n",
    "import numpy as np\n",
    "from datetime import date\n",
    "from dateutil import relativedelta as rd\n",
    "\n",
    "from matplotlib import pyplot as plt\n",
    "%matplotlib inline\n",
    "from matplotlib.pylab import rcParams\n",
    "rcParams['figure.figsize'] = 15, 6\n",
    "\n",
    "import seaborn as sns\n",
    "sns.set_style(\"whitegrid\")\n",
    "\n",
    "from app import data_loader as dl\n",
    "from app import models, evaluate, metrics, visualise"
   ]
  },
  {
   "cell_type": "code",
   "execution_count": 3,
   "metadata": {},
   "outputs": [],
   "source": [
    "period_start = date(1958, 3, 1)\n",
    "period_end = date(1959, 2, 1)\n",
    "data = (\n",
    "    dl.load_data()\n",
    ")"
   ]
  },
  {
   "cell_type": "code",
   "execution_count": 4,
   "metadata": {},
   "outputs": [],
   "source": [
    "naive_df = evaluate.generate_evaluation_set(data, period_start, period_end, 12, models.Naive())\n",
    "forecast = naive_df[naive_df.forecast_start == period_start]"
   ]
  },
  {
   "cell_type": "code",
   "execution_count": 5,
   "metadata": {},
   "outputs": [
    {
     "data": {
      "text/html": [
       "<div>\n",
       "<style scoped>\n",
       "    .dataframe tbody tr th:only-of-type {\n",
       "        vertical-align: middle;\n",
       "    }\n",
       "\n",
       "    .dataframe tbody tr th {\n",
       "        vertical-align: top;\n",
       "    }\n",
       "\n",
       "    .dataframe thead th {\n",
       "        text-align: right;\n",
       "    }\n",
       "</style>\n",
       "<table border=\"1\" class=\"dataframe\">\n",
       "  <thead>\n",
       "    <tr style=\"text-align: right;\">\n",
       "      <th></th>\n",
       "      <th>forecast_start</th>\n",
       "      <th>y_pred</th>\n",
       "      <th>y_true</th>\n",
       "      <th>mape</th>\n",
       "      <th>mae</th>\n",
       "      <th>rmse</th>\n",
       "      <th>bias</th>\n",
       "    </tr>\n",
       "  </thead>\n",
       "  <tbody>\n",
       "    <tr>\n",
       "      <th>0</th>\n",
       "      <td>1958-03-01</td>\n",
       "      <td>3816</td>\n",
       "      <td>4616</td>\n",
       "      <td>17.331023</td>\n",
       "      <td>800.0</td>\n",
       "      <td>800.0</td>\n",
       "      <td>-1</td>\n",
       "    </tr>\n",
       "  </tbody>\n",
       "</table>\n",
       "</div>"
      ],
      "text/plain": [
       "  forecast_start  y_pred  y_true       mape    mae   rmse  bias\n",
       "0     1958-03-01    3816    4616  17.331023  800.0  800.0    -1"
      ]
     },
     "execution_count": 5,
     "metadata": {},
     "output_type": "execute_result"
    }
   ],
   "source": [
    "evaluate.build_period_score(forecast)"
   ]
  },
  {
   "cell_type": "code",
   "execution_count": 6,
   "metadata": {},
   "outputs": [
    {
     "data": {
      "text/html": [
       "<div>\n",
       "<style scoped>\n",
       "    .dataframe tbody tr th:only-of-type {\n",
       "        vertical-align: middle;\n",
       "    }\n",
       "\n",
       "    .dataframe tbody tr th {\n",
       "        vertical-align: top;\n",
       "    }\n",
       "\n",
       "    .dataframe thead th {\n",
       "        text-align: right;\n",
       "    }\n",
       "</style>\n",
       "<table border=\"1\" class=\"dataframe\">\n",
       "  <thead>\n",
       "    <tr style=\"text-align: right;\">\n",
       "      <th></th>\n",
       "      <th>horizon</th>\n",
       "      <th>bias</th>\n",
       "      <th>mae</th>\n",
       "      <th>mape</th>\n",
       "      <th>observations</th>\n",
       "      <th>rmse</th>\n",
       "    </tr>\n",
       "  </thead>\n",
       "  <tbody>\n",
       "    <tr>\n",
       "      <th>0</th>\n",
       "      <td>1.0</td>\n",
       "      <td>-0.166667</td>\n",
       "      <td>39.833333</td>\n",
       "      <td>10.337033</td>\n",
       "      <td>12.0</td>\n",
       "      <td>47.506140</td>\n",
       "    </tr>\n",
       "    <tr>\n",
       "      <th>1</th>\n",
       "      <td>2.0</td>\n",
       "      <td>-0.272727</td>\n",
       "      <td>65.454545</td>\n",
       "      <td>16.657421</td>\n",
       "      <td>11.0</td>\n",
       "      <td>80.047713</td>\n",
       "    </tr>\n",
       "    <tr>\n",
       "      <th>2</th>\n",
       "      <td>3.0</td>\n",
       "      <td>-0.200000</td>\n",
       "      <td>86.100000</td>\n",
       "      <td>22.328246</td>\n",
       "      <td>10.0</td>\n",
       "      <td>104.828908</td>\n",
       "    </tr>\n",
       "    <tr>\n",
       "      <th>3</th>\n",
       "      <td>4.0</td>\n",
       "      <td>0.111111</td>\n",
       "      <td>103.333333</td>\n",
       "      <td>26.778746</td>\n",
       "      <td>9.0</td>\n",
       "      <td>118.155265</td>\n",
       "    </tr>\n",
       "    <tr>\n",
       "      <th>4</th>\n",
       "      <td>5.0</td>\n",
       "      <td>0.250000</td>\n",
       "      <td>107.750000</td>\n",
       "      <td>27.869123</td>\n",
       "      <td>8.0</td>\n",
       "      <td>121.315704</td>\n",
       "    </tr>\n",
       "    <tr>\n",
       "      <th>5</th>\n",
       "      <td>6.0</td>\n",
       "      <td>0.142857</td>\n",
       "      <td>97.857143</td>\n",
       "      <td>25.816630</td>\n",
       "      <td>7.0</td>\n",
       "      <td>115.261814</td>\n",
       "    </tr>\n",
       "    <tr>\n",
       "      <th>6</th>\n",
       "      <td>7.0</td>\n",
       "      <td>0.666667</td>\n",
       "      <td>62.833333</td>\n",
       "      <td>17.749428</td>\n",
       "      <td>6.0</td>\n",
       "      <td>78.899725</td>\n",
       "    </tr>\n",
       "    <tr>\n",
       "      <th>7</th>\n",
       "      <td>8.0</td>\n",
       "      <td>0.600000</td>\n",
       "      <td>40.000000</td>\n",
       "      <td>11.897043</td>\n",
       "      <td>5.0</td>\n",
       "      <td>51.310818</td>\n",
       "    </tr>\n",
       "    <tr>\n",
       "      <th>8</th>\n",
       "      <td>9.0</td>\n",
       "      <td>0.500000</td>\n",
       "      <td>16.500000</td>\n",
       "      <td>4.868182</td>\n",
       "      <td>4.0</td>\n",
       "      <td>17.846568</td>\n",
       "    </tr>\n",
       "    <tr>\n",
       "      <th>9</th>\n",
       "      <td>10.0</td>\n",
       "      <td>0.333333</td>\n",
       "      <td>9.000000</td>\n",
       "      <td>2.649308</td>\n",
       "      <td>3.0</td>\n",
       "      <td>11.561430</td>\n",
       "    </tr>\n",
       "    <tr>\n",
       "      <th>10</th>\n",
       "      <td>11.0</td>\n",
       "      <td>0.000000</td>\n",
       "      <td>31.000000</td>\n",
       "      <td>8.757310</td>\n",
       "      <td>2.0</td>\n",
       "      <td>32.893768</td>\n",
       "    </tr>\n",
       "    <tr>\n",
       "      <th>11</th>\n",
       "      <td>12.0</td>\n",
       "      <td>-1.000000</td>\n",
       "      <td>24.000000</td>\n",
       "      <td>7.017544</td>\n",
       "      <td>1.0</td>\n",
       "      <td>24.000000</td>\n",
       "    </tr>\n",
       "  </tbody>\n",
       "</table>\n",
       "</div>"
      ],
      "text/plain": [
       "    horizon      bias         mae       mape  observations        rmse\n",
       "0       1.0 -0.166667   39.833333  10.337033          12.0   47.506140\n",
       "1       2.0 -0.272727   65.454545  16.657421          11.0   80.047713\n",
       "2       3.0 -0.200000   86.100000  22.328246          10.0  104.828908\n",
       "3       4.0  0.111111  103.333333  26.778746           9.0  118.155265\n",
       "4       5.0  0.250000  107.750000  27.869123           8.0  121.315704\n",
       "5       6.0  0.142857   97.857143  25.816630           7.0  115.261814\n",
       "6       7.0  0.666667   62.833333  17.749428           6.0   78.899725\n",
       "7       8.0  0.600000   40.000000  11.897043           5.0   51.310818\n",
       "8       9.0  0.500000   16.500000   4.868182           4.0   17.846568\n",
       "9      10.0  0.333333    9.000000   2.649308           3.0   11.561430\n",
       "10     11.0  0.000000   31.000000   8.757310           2.0   32.893768\n",
       "11     12.0 -1.000000   24.000000   7.017544           1.0   24.000000"
      ]
     },
     "execution_count": 6,
     "metadata": {},
     "output_type": "execute_result"
    }
   ],
   "source": [
    "naive_horizon_score = evaluate.build_horizon_score(naive_df)\n",
    "naive_horizon_score"
   ]
  },
  {
   "cell_type": "code",
   "execution_count": 7,
   "metadata": {},
   "outputs": [
    {
     "data": {
      "text/html": [
       "<div>\n",
       "<style scoped>\n",
       "    .dataframe tbody tr th:only-of-type {\n",
       "        vertical-align: middle;\n",
       "    }\n",
       "\n",
       "    .dataframe tbody tr th {\n",
       "        vertical-align: top;\n",
       "    }\n",
       "\n",
       "    .dataframe thead th {\n",
       "        text-align: right;\n",
       "    }\n",
       "</style>\n",
       "<table border=\"1\" class=\"dataframe\">\n",
       "  <thead>\n",
       "    <tr style=\"text-align: right;\">\n",
       "      <th></th>\n",
       "      <th>horizon</th>\n",
       "      <th>bias</th>\n",
       "      <th>mae</th>\n",
       "      <th>mape</th>\n",
       "      <th>observations</th>\n",
       "      <th>rmse</th>\n",
       "    </tr>\n",
       "  </thead>\n",
       "  <tbody>\n",
       "    <tr>\n",
       "      <th>0</th>\n",
       "      <td>1.0</td>\n",
       "      <td>-1.0</td>\n",
       "      <td>44.0</td>\n",
       "      <td>12.154696</td>\n",
       "      <td>1.0</td>\n",
       "      <td>44.0</td>\n",
       "    </tr>\n",
       "    <tr>\n",
       "      <th>1</th>\n",
       "      <td>2.0</td>\n",
       "      <td>-1.0</td>\n",
       "      <td>30.0</td>\n",
       "      <td>8.620690</td>\n",
       "      <td>1.0</td>\n",
       "      <td>30.0</td>\n",
       "    </tr>\n",
       "    <tr>\n",
       "      <th>2</th>\n",
       "      <td>3.0</td>\n",
       "      <td>-1.0</td>\n",
       "      <td>45.0</td>\n",
       "      <td>12.396694</td>\n",
       "      <td>1.0</td>\n",
       "      <td>45.0</td>\n",
       "    </tr>\n",
       "    <tr>\n",
       "      <th>3</th>\n",
       "      <td>4.0</td>\n",
       "      <td>-1.0</td>\n",
       "      <td>117.0</td>\n",
       "      <td>26.896552</td>\n",
       "      <td>1.0</td>\n",
       "      <td>117.0</td>\n",
       "    </tr>\n",
       "    <tr>\n",
       "      <th>4</th>\n",
       "      <td>5.0</td>\n",
       "      <td>-1.0</td>\n",
       "      <td>173.0</td>\n",
       "      <td>35.234216</td>\n",
       "      <td>1.0</td>\n",
       "      <td>173.0</td>\n",
       "    </tr>\n",
       "    <tr>\n",
       "      <th>5</th>\n",
       "      <td>6.0</td>\n",
       "      <td>-1.0</td>\n",
       "      <td>187.0</td>\n",
       "      <td>37.029703</td>\n",
       "      <td>1.0</td>\n",
       "      <td>187.0</td>\n",
       "    </tr>\n",
       "    <tr>\n",
       "      <th>6</th>\n",
       "      <td>7.0</td>\n",
       "      <td>-1.0</td>\n",
       "      <td>86.0</td>\n",
       "      <td>21.287129</td>\n",
       "      <td>1.0</td>\n",
       "      <td>86.0</td>\n",
       "    </tr>\n",
       "    <tr>\n",
       "      <th>7</th>\n",
       "      <td>8.0</td>\n",
       "      <td>-1.0</td>\n",
       "      <td>41.0</td>\n",
       "      <td>11.420613</td>\n",
       "      <td>1.0</td>\n",
       "      <td>41.0</td>\n",
       "    </tr>\n",
       "    <tr>\n",
       "      <th>8</th>\n",
       "      <td>9.0</td>\n",
       "      <td>1.0</td>\n",
       "      <td>8.0</td>\n",
       "      <td>2.580645</td>\n",
       "      <td>1.0</td>\n",
       "      <td>8.0</td>\n",
       "    </tr>\n",
       "    <tr>\n",
       "      <th>9</th>\n",
       "      <td>10.0</td>\n",
       "      <td>-1.0</td>\n",
       "      <td>19.0</td>\n",
       "      <td>5.637982</td>\n",
       "      <td>1.0</td>\n",
       "      <td>19.0</td>\n",
       "    </tr>\n",
       "    <tr>\n",
       "      <th>10</th>\n",
       "      <td>11.0</td>\n",
       "      <td>-1.0</td>\n",
       "      <td>42.0</td>\n",
       "      <td>11.666667</td>\n",
       "      <td>1.0</td>\n",
       "      <td>42.0</td>\n",
       "    </tr>\n",
       "    <tr>\n",
       "      <th>11</th>\n",
       "      <td>12.0</td>\n",
       "      <td>-1.0</td>\n",
       "      <td>24.0</td>\n",
       "      <td>7.017544</td>\n",
       "      <td>1.0</td>\n",
       "      <td>24.0</td>\n",
       "    </tr>\n",
       "  </tbody>\n",
       "</table>\n",
       "</div>"
      ],
      "text/plain": [
       "    horizon  bias    mae       mape  observations   rmse\n",
       "0       1.0  -1.0   44.0  12.154696           1.0   44.0\n",
       "1       2.0  -1.0   30.0   8.620690           1.0   30.0\n",
       "2       3.0  -1.0   45.0  12.396694           1.0   45.0\n",
       "3       4.0  -1.0  117.0  26.896552           1.0  117.0\n",
       "4       5.0  -1.0  173.0  35.234216           1.0  173.0\n",
       "5       6.0  -1.0  187.0  37.029703           1.0  187.0\n",
       "6       7.0  -1.0   86.0  21.287129           1.0   86.0\n",
       "7       8.0  -1.0   41.0  11.420613           1.0   41.0\n",
       "8       9.0   1.0    8.0   2.580645           1.0    8.0\n",
       "9      10.0  -1.0   19.0   5.637982           1.0   19.0\n",
       "10     11.0  -1.0   42.0  11.666667           1.0   42.0\n",
       "11     12.0  -1.0   24.0   7.017544           1.0   24.0"
      ]
     },
     "execution_count": 7,
     "metadata": {},
     "output_type": "execute_result"
    }
   ],
   "source": [
    "forecast_horizon_score = evaluate.build_horizon_score(forecast)\n",
    "forecast_horizon_score"
   ]
  },
  {
   "cell_type": "code",
   "execution_count": 8,
   "metadata": {},
   "outputs": [
    {
     "data": {
      "image/png": "[encoded data removed]",
      "text/plain": [
       "<Figure size 1080x432 with 1 Axes>"
      ]
     },
     "metadata": {},
     "output_type": "display_data"
    }
   ],
   "source": [
    "visualise.plot_horizon_variance(naive_df)\n",
    "plt.title('Horizon Error Variance')\n",
    "plt.show();"
   ]
  },
  {
   "cell_type": "code",
   "execution_count": 9,
   "metadata": {},
   "outputs": [
    {
     "data": {
      "image/png": "[encoded data removed]",
      "text/plain": [
       "<Figure size 1080x432 with 1 Axes>"
      ]
     },
     "metadata": {},
     "output_type": "display_data"
    }
   ],
   "source": [
    "visualise.plot_month_score(naive_df, 1)\n",
    "plt.title('Average Error (%) by Month')\n",
    "plt.show();"
   ]
  },
  {
   "cell_type": "code",
   "execution_count": 10,
   "metadata": {},
   "outputs": [
    {
     "data": {
      "image/png": "[encoded data removed]",
      "text/plain": [
       "<Figure size 1080x432 with 1 Axes>"
      ]
     },
     "metadata": {},
     "output_type": "display_data"
    }
   ],
   "source": [
    "visualise.plot_horizon_score(naive_horizon_score)\n",
    "plt.title('Average Error (%) by Estimate Horizon')\n",
    "plt.show();"
   ]
  },
  {
   "cell_type": "code",
   "execution_count": 11,
   "metadata": {},
   "outputs": [
    {
     "data": {
      "image/png": "[encoded data removed]",
      "text/plain": [
       "<Figure size 1080x432 with 1 Axes>"
      ]
     },
     "metadata": {},
     "output_type": "display_data"
    }
   ],
   "source": [
    "visualise.plot_horizon_score(forecast_horizon_score)\n",
    "plt.title('Average Error (%) for 12 month forecast')\n",
    "plt.show();"
   ]
  },
  {
   "cell_type": "code",
   "execution_count": 12,
   "metadata": {},
   "outputs": [
    {
     "data": {
      "image/png": "[encoded data removed]",
      "text/plain": [
       "<Figure size 1080x432 with 1 Axes>"
      ]
     },
     "metadata": {},
     "output_type": "display_data"
    }
   ],
   "source": [
    "visualise.plot_horizon_bias(forecast)\n",
    "plt.title('Estimate bias for 12 month forecast')\n",
    "plt.show();"
   ]
  },
  {
   "cell_type": "code",
   "execution_count": null,
   "metadata": {},
   "outputs": [],
   "source": []
  }
 ],
 "metadata": {
  "kernelspec": {
   "display_name": "Python 3",
   "language": "python",
   "name": "python3"
  },
  "language_info": {
   "codemirror_mode": {
    "name": "ipython",
    "version": 3
   },
   "file_extension": ".py",
   "mimetype": "text/x-python",
   "name": "python",
   "nbconvert_exporter": "python",
   "pygments_lexer": "ipython3",
   "version": "3.6.4"
  }
 },
 "nbformat": 4,
 "nbformat_minor": 2
}
